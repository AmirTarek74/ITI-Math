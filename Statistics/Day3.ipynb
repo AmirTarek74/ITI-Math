{
 "cells": [
  {
   "cell_type": "markdown",
   "id": "98244c47-6b2f-4d0c-a701-e25d342e5290",
   "metadata": {},
   "source": [
    "## Import dependecies"
   ]
  },
  {
   "cell_type": "code",
   "execution_count": 1,
   "id": "372e8c0a-ca81-4093-899c-02a1db754981",
   "metadata": {},
   "outputs": [],
   "source": [
    "import numpy as np\n",
    "import matplotlib.pyplot as plt\n",
    "import pandas as pd\n",
    "import seaborn as sns"
   ]
  },
  {
   "cell_type": "markdown",
   "id": "6641f721-b672-494d-9359-27615d30b57a",
   "metadata": {},
   "source": [
    "### Load Data"
   ]
  },
  {
   "cell_type": "code",
   "execution_count": 2,
   "id": "fda49029-76af-4f63-877f-3f46f0920cfc",
   "metadata": {},
   "outputs": [],
   "source": [
    "df = pd.read_csv('iris.csv')"
   ]
  },
  {
   "cell_type": "code",
   "execution_count": 3,
   "id": "f9d7fa9f-e515-4e3a-836c-9c6b5e60240d",
   "metadata": {},
   "outputs": [
    {
     "data": {
      "text/html": [
       "<div>\n",
       "<style scoped>\n",
       "    .dataframe tbody tr th:only-of-type {\n",
       "        vertical-align: middle;\n",
       "    }\n",
       "\n",
       "    .dataframe tbody tr th {\n",
       "        vertical-align: top;\n",
       "    }\n",
       "\n",
       "    .dataframe thead th {\n",
       "        text-align: right;\n",
       "    }\n",
       "</style>\n",
       "<table border=\"1\" class=\"dataframe\">\n",
       "  <thead>\n",
       "    <tr style=\"text-align: right;\">\n",
       "      <th></th>\n",
       "      <th>sepal.length</th>\n",
       "      <th>sepal.width</th>\n",
       "      <th>petal.length</th>\n",
       "      <th>petal.width</th>\n",
       "    </tr>\n",
       "  </thead>\n",
       "  <tbody>\n",
       "    <tr>\n",
       "      <th>count</th>\n",
       "      <td>150.000000</td>\n",
       "      <td>150.000000</td>\n",
       "      <td>150.000000</td>\n",
       "      <td>150.000000</td>\n",
       "    </tr>\n",
       "    <tr>\n",
       "      <th>mean</th>\n",
       "      <td>5.843333</td>\n",
       "      <td>3.057333</td>\n",
       "      <td>3.758000</td>\n",
       "      <td>1.199333</td>\n",
       "    </tr>\n",
       "    <tr>\n",
       "      <th>std</th>\n",
       "      <td>0.828066</td>\n",
       "      <td>0.435866</td>\n",
       "      <td>1.765298</td>\n",
       "      <td>0.762238</td>\n",
       "    </tr>\n",
       "    <tr>\n",
       "      <th>min</th>\n",
       "      <td>4.300000</td>\n",
       "      <td>2.000000</td>\n",
       "      <td>1.000000</td>\n",
       "      <td>0.100000</td>\n",
       "    </tr>\n",
       "    <tr>\n",
       "      <th>25%</th>\n",
       "      <td>5.100000</td>\n",
       "      <td>2.800000</td>\n",
       "      <td>1.600000</td>\n",
       "      <td>0.300000</td>\n",
       "    </tr>\n",
       "    <tr>\n",
       "      <th>50%</th>\n",
       "      <td>5.800000</td>\n",
       "      <td>3.000000</td>\n",
       "      <td>4.350000</td>\n",
       "      <td>1.300000</td>\n",
       "    </tr>\n",
       "    <tr>\n",
       "      <th>75%</th>\n",
       "      <td>6.400000</td>\n",
       "      <td>3.300000</td>\n",
       "      <td>5.100000</td>\n",
       "      <td>1.800000</td>\n",
       "    </tr>\n",
       "    <tr>\n",
       "      <th>max</th>\n",
       "      <td>7.900000</td>\n",
       "      <td>4.400000</td>\n",
       "      <td>6.900000</td>\n",
       "      <td>2.500000</td>\n",
       "    </tr>\n",
       "  </tbody>\n",
       "</table>\n",
       "</div>"
      ],
      "text/plain": [
       "       sepal.length  sepal.width  petal.length  petal.width\n",
       "count    150.000000   150.000000    150.000000   150.000000\n",
       "mean       5.843333     3.057333      3.758000     1.199333\n",
       "std        0.828066     0.435866      1.765298     0.762238\n",
       "min        4.300000     2.000000      1.000000     0.100000\n",
       "25%        5.100000     2.800000      1.600000     0.300000\n",
       "50%        5.800000     3.000000      4.350000     1.300000\n",
       "75%        6.400000     3.300000      5.100000     1.800000\n",
       "max        7.900000     4.400000      6.900000     2.500000"
      ]
     },
     "execution_count": 3,
     "metadata": {},
     "output_type": "execute_result"
    }
   ],
   "source": [
    "df.describe()"
   ]
  },
  {
   "cell_type": "markdown",
   "id": "d075b101-e6e1-4c98-803c-a1c85b8db418",
   "metadata": {},
   "source": [
    "### Measure of Central \n",
    "Mean, median, and mode are different measures of center in a numerical data set. They each try to summarize a dataset with a single number to represent a \"typical\" data point from the dataset.\n",
    "1. Mean: The \"average\" number; found by adding all data points and dividing by the number of data points, its equation $ mean = \\frac{\\sum xi} {n} $\n",
    "2. Median: The middle number; found by ordering all data points and picking out the one in the middle (or if there are two middle numbers, taking the mean of those two numbers).\n",
    "3. Mode: The most frequent number—that is, the number that occurs the highest number of times."
   ]
  },
  {
   "cell_type": "code",
   "execution_count": 4,
   "id": "249739ab-9040-484c-88b8-87b252caffaf",
   "metadata": {},
   "outputs": [
    {
     "data": {
      "text/plain": [
       "1.1993333333333336"
      ]
     },
     "execution_count": 4,
     "metadata": {},
     "output_type": "execute_result"
    }
   ],
   "source": [
    "df['petal.width'].mean()"
   ]
  },
  {
   "cell_type": "code",
   "execution_count": 5,
   "id": "bbee4393-2620-447a-9150-61f06e1ee72d",
   "metadata": {},
   "outputs": [
    {
     "data": {
      "text/plain": [
       "1.3"
      ]
     },
     "execution_count": 5,
     "metadata": {},
     "output_type": "execute_result"
    }
   ],
   "source": [
    "df['petal.width'].median()"
   ]
  },
  {
   "cell_type": "code",
   "execution_count": 6,
   "id": "944ba43a-12c4-4e49-ae27-29c4a9ec5254",
   "metadata": {},
   "outputs": [
    {
     "data": {
      "text/plain": [
       "0    0.2\n",
       "Name: petal.width, dtype: float64"
      ]
     },
     "execution_count": 6,
     "metadata": {},
     "output_type": "execute_result"
    }
   ],
   "source": [
    "df['petal.width'].mode()"
   ]
  },
  {
   "cell_type": "markdown",
   "id": "414e2f87-0a46-4f83-af12-6c753cf7f897",
   "metadata": {},
   "source": [
    "### Measure of Variation \n",
    "1. Standard deviation measures the spread of a data distribution. The more spread out a data distribution is, the greater its standard deviation.\n",
    "we calculte it according to : $ \\sigma = \\sqrt {\\frac {\\sum({x-\\mu})^{2}} {N}} $.\n",
    "\n",
    "we can also calculate vairance which is another measure of variation as $Var(x) = {\\sigma}^{2} $"
   ]
  },
  {
   "cell_type": "code",
   "execution_count": 7,
   "id": "e35e11d0-f13b-4211-b9c8-291291145c4b",
   "metadata": {},
   "outputs": [
    {
     "data": {
      "text/plain": [
       "0.7622376689603465"
      ]
     },
     "execution_count": 7,
     "metadata": {},
     "output_type": "execute_result"
    }
   ],
   "source": [
    "df['petal.width'].std()"
   ]
  },
  {
   "cell_type": "code",
   "execution_count": 8,
   "id": "e423648c-a94b-428c-9311-af2285bb8015",
   "metadata": {},
   "outputs": [
    {
     "data": {
      "text/plain": [
       "0.5810062639821029"
      ]
     },
     "execution_count": 8,
     "metadata": {},
     "output_type": "execute_result"
    }
   ],
   "source": [
    "df['petal.width'].var()"
   ]
  },
  {
   "cell_type": "markdown",
   "id": "08f47757-4736-437e-bec6-1a62efee92e1",
   "metadata": {},
   "source": [
    "### Visualizing quartiles"
   ]
  },
  {
   "cell_type": "code",
   "execution_count": 9,
   "id": "ec978563-b7c1-46c8-9cb4-8e94a104c9e9",
   "metadata": {},
   "outputs": [
    {
     "data": {
      "image/png": "[encoded data removed]",
      "text/plain": [
       "<Figure size 1000x800 with 1 Axes>"
      ]
     },
     "metadata": {},
     "output_type": "display_data"
    }
   ],
   "source": [
    "plt.figure(figsize=(10,8))\n",
    "sns.boxplot(data=df)\n",
    "plt.xlabel('Features')\n",
    "plt.ylabel('Value')\n",
    "plt.show()"
   ]
  },
  {
   "cell_type": "code",
   "execution_count": 10,
   "id": "c83d1d0f-bd60-4627-8e98-042de66cc44b",
   "metadata": {},
   "outputs": [
    {
     "data": {
      "image/png": "[encoded data removed]",
      "text/plain": [
       "<Figure size 640x480 with 1 Axes>"
      ]
     },
     "metadata": {},
     "output_type": "display_data"
    }
   ],
   "source": [
    "sns.histplot(data=df, x='sepal.width',kde=True)\n",
    "plt.xlabel('width')\n",
    "plt.ylabel('count')\n",
    "plt.show()"
   ]
  },
  {
   "cell_type": "markdown",
   "id": "4eee598d-2761-46f3-bcb0-bbfa81656b8f",
   "metadata": {},
   "source": [
    "if you have any skewing in your data you can transform the features as follows:\n",
    "1. if you have right skew try take the `log` for this feature.\n",
    "2. if you have left skew try take `power 2 or 3` for this feature."
   ]
  },
  {
   "cell_type": "markdown",
   "id": "642b8f9c-fcdc-4a4e-b11c-45031e824617",
   "metadata": {},
   "source": [
    "### Binomal Distribution\n",
    "\n",
    "the binomial distribution is the discrete probability distribution that gives only two possible results in an experiment, either Success or Failure. For example, if we toss a coin, there could be only two possible outcomes: heads or tails, and if any test is taken, then there could be only two results: pass or fail. This distribution is also called a binomial probability distribution.\n",
    "There are two parameters n and p used here in a binomial distribution. The variable ‘n’ states the number of times the experiment runs and the variable ‘p’ tells the probability of any one outcome.\n",
    "\n",
    "$P(x) = \\frac {n!} {x! (n-x)!} {p}^{x} {q}^{n-x} $ this equation gives the probability of `x` successes in `n` trials with `p` probability of success and `q` probability of failure where $q = 1 - p$."
   ]
  },
  {
   "cell_type": "code",
   "execution_count": 11,
   "id": "a3408f08-3788-455d-acf5-92c5c32d8db4",
   "metadata": {},
   "outputs": [
    {
     "data": {
      "image/png": "[encoded data removed]",
      "text/plain": [
       "<Figure size 800x800 with 3 Axes>"
      ]
     },
     "metadata": {},
     "output_type": "display_data"
    }
   ],
   "source": [
    "# we will simulate coin toss for different size and plot count for every size\n",
    "sizes = [10,100,1000]\n",
    "colors = ['r','g','y']\n",
    "fig,axs = plt.subplots(len(sizes),1, figsize=(8,8))\n",
    "for idx,size in enumerate(sizes):\n",
    "    data = np.random.binomial(n = 1,p = 0.5,size=size)\n",
    "    sns.countplot(x=data, ax=axs[idx],color=colors[idx])"
   ]
  },
  {
   "cell_type": "markdown",
   "id": "0e91076d-f414-4a93-bf87-1eca010cc8de",
   "metadata": {},
   "source": [
    "we can see when we increase size we got both outcomes' probability really close."
   ]
  }
 ],
 "metadata": {
  "kernelspec": {
   "display_name": "Python 3 (ipykernel)",
   "language": "python",
   "name": "python3"
  },
  "language_info": {
   "codemirror_mode": {
    "name": "ipython",
    "version": 3
   },
   "file_extension": ".py",
   "mimetype": "text/x-python",
   "name": "python",
   "nbconvert_exporter": "python",
   "pygments_lexer": "ipython3",
   "version": "3.11.9"
  },
  "widgets": {
   "application/vnd.jupyter.widget-state+json": {
    "state": {},
    "version_major": 2,
    "version_minor": 0
   }
  }
 },
 "nbformat": 4,
 "nbformat_minor": 5
}
